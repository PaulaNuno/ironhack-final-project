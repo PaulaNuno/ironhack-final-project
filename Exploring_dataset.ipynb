{
 "cells": [
  {
   "cell_type": "code",
   "execution_count": 8,
   "metadata": {},
   "outputs": [],
   "source": [
    "import pandas as pd\n",
    "import numpy as np"
   ]
  },
  {
   "cell_type": "code",
   "execution_count": 9,
   "metadata": {},
   "outputs": [],
   "source": [
    "df = pd.read_csv('input/MoMAExhibitions1929to1989.csv', encoding='latin-1')"
   ]
  },
  {
   "cell_type": "code",
   "execution_count": 10,
   "metadata": {},
   "outputs": [
    {
     "data": {
      "text/html": [
       "<div>\n",
       "<style scoped>\n",
       "    .dataframe tbody tr th:only-of-type {\n",
       "        vertical-align: middle;\n",
       "    }\n",
       "\n",
       "    .dataframe tbody tr th {\n",
       "        vertical-align: top;\n",
       "    }\n",
       "\n",
       "    .dataframe thead th {\n",
       "        text-align: right;\n",
       "    }\n",
       "</style>\n",
       "<table border=\"1\" class=\"dataframe\">\n",
       "  <thead>\n",
       "    <tr style=\"text-align: right;\">\n",
       "      <th></th>\n",
       "      <th>ExhibitionID</th>\n",
       "      <th>ExhibitionNumber</th>\n",
       "      <th>ExhibitionTitle</th>\n",
       "      <th>ExhibitionCitationDate</th>\n",
       "      <th>ExhibitionBeginDate</th>\n",
       "      <th>ExhibitionEndDate</th>\n",
       "      <th>ExhibitionSortOrder</th>\n",
       "      <th>ExhibitionURL</th>\n",
       "      <th>ExhibitionRole</th>\n",
       "      <th>ExhibitionRoleinPressRelease</th>\n",
       "      <th>...</th>\n",
       "      <th>Institution</th>\n",
       "      <th>Nationality</th>\n",
       "      <th>ConstituentBeginDate</th>\n",
       "      <th>ConstituentEndDate</th>\n",
       "      <th>ArtistBio</th>\n",
       "      <th>Gender</th>\n",
       "      <th>VIAFID</th>\n",
       "      <th>WikidataID</th>\n",
       "      <th>ULANID</th>\n",
       "      <th>ConstituentURL</th>\n",
       "    </tr>\n",
       "  </thead>\n",
       "  <tbody>\n",
       "    <tr>\n",
       "      <th>0</th>\n",
       "      <td>2557.0</td>\n",
       "      <td>1</td>\n",
       "      <td>Cézanne, Gauguin, Seurat, Van Gogh</td>\n",
       "      <td>[MoMA Exh. #1, November 7-December 7, 1929]</td>\n",
       "      <td>11/7/1929</td>\n",
       "      <td>12/7/1929</td>\n",
       "      <td>1.0</td>\n",
       "      <td>moma.org/calendar/exhibitions/1767</td>\n",
       "      <td>Curator</td>\n",
       "      <td>Director</td>\n",
       "      <td>...</td>\n",
       "      <td>NaN</td>\n",
       "      <td>American</td>\n",
       "      <td>1902.0</td>\n",
       "      <td>1981.0</td>\n",
       "      <td>American, 19021981</td>\n",
       "      <td>Male</td>\n",
       "      <td>109252853.0</td>\n",
       "      <td>Q711362</td>\n",
       "      <td>500241556.0</td>\n",
       "      <td>moma.org/artists/9168</td>\n",
       "    </tr>\n",
       "    <tr>\n",
       "      <th>1</th>\n",
       "      <td>2557.0</td>\n",
       "      <td>1</td>\n",
       "      <td>Cézanne, Gauguin, Seurat, Van Gogh</td>\n",
       "      <td>[MoMA Exh. #1, November 7-December 7, 1929]</td>\n",
       "      <td>11/7/1929</td>\n",
       "      <td>12/7/1929</td>\n",
       "      <td>1.0</td>\n",
       "      <td>moma.org/calendar/exhibitions/1767</td>\n",
       "      <td>Artist</td>\n",
       "      <td>Artist</td>\n",
       "      <td>...</td>\n",
       "      <td>NaN</td>\n",
       "      <td>French</td>\n",
       "      <td>1839.0</td>\n",
       "      <td>1906.0</td>\n",
       "      <td>French, 18391906</td>\n",
       "      <td>Male</td>\n",
       "      <td>39374836.0</td>\n",
       "      <td>Q35548</td>\n",
       "      <td>500004793.0</td>\n",
       "      <td>moma.org/artists/1053</td>\n",
       "    </tr>\n",
       "    <tr>\n",
       "      <th>2</th>\n",
       "      <td>2557.0</td>\n",
       "      <td>1</td>\n",
       "      <td>Cézanne, Gauguin, Seurat, Van Gogh</td>\n",
       "      <td>[MoMA Exh. #1, November 7-December 7, 1929]</td>\n",
       "      <td>11/7/1929</td>\n",
       "      <td>12/7/1929</td>\n",
       "      <td>1.0</td>\n",
       "      <td>moma.org/calendar/exhibitions/1767</td>\n",
       "      <td>Artist</td>\n",
       "      <td>Artist</td>\n",
       "      <td>...</td>\n",
       "      <td>NaN</td>\n",
       "      <td>French</td>\n",
       "      <td>1848.0</td>\n",
       "      <td>1903.0</td>\n",
       "      <td>French, 18481903</td>\n",
       "      <td>Male</td>\n",
       "      <td>27064953.0</td>\n",
       "      <td>Q37693</td>\n",
       "      <td>500011421.0</td>\n",
       "      <td>moma.org/artists/2098</td>\n",
       "    </tr>\n",
       "    <tr>\n",
       "      <th>3</th>\n",
       "      <td>2557.0</td>\n",
       "      <td>1</td>\n",
       "      <td>Cézanne, Gauguin, Seurat, Van Gogh</td>\n",
       "      <td>[MoMA Exh. #1, November 7-December 7, 1929]</td>\n",
       "      <td>11/7/1929</td>\n",
       "      <td>12/7/1929</td>\n",
       "      <td>1.0</td>\n",
       "      <td>moma.org/calendar/exhibitions/1767</td>\n",
       "      <td>Artist</td>\n",
       "      <td>Artist</td>\n",
       "      <td>...</td>\n",
       "      <td>NaN</td>\n",
       "      <td>Dutch</td>\n",
       "      <td>1853.0</td>\n",
       "      <td>1890.0</td>\n",
       "      <td>Dutch, 18531890</td>\n",
       "      <td>Male</td>\n",
       "      <td>9854560.0</td>\n",
       "      <td>Q5582</td>\n",
       "      <td>500115588.0</td>\n",
       "      <td>moma.org/artists/2206</td>\n",
       "    </tr>\n",
       "    <tr>\n",
       "      <th>4</th>\n",
       "      <td>2557.0</td>\n",
       "      <td>1</td>\n",
       "      <td>Cézanne, Gauguin, Seurat, Van Gogh</td>\n",
       "      <td>[MoMA Exh. #1, November 7-December 7, 1929]</td>\n",
       "      <td>11/7/1929</td>\n",
       "      <td>12/7/1929</td>\n",
       "      <td>1.0</td>\n",
       "      <td>moma.org/calendar/exhibitions/1767</td>\n",
       "      <td>Artist</td>\n",
       "      <td>Artist</td>\n",
       "      <td>...</td>\n",
       "      <td>NaN</td>\n",
       "      <td>French</td>\n",
       "      <td>1859.0</td>\n",
       "      <td>1891.0</td>\n",
       "      <td>French, 18591891</td>\n",
       "      <td>Male</td>\n",
       "      <td>24608076.0</td>\n",
       "      <td>Q34013</td>\n",
       "      <td>500008873.0</td>\n",
       "      <td>moma.org/artists/5358</td>\n",
       "    </tr>\n",
       "  </tbody>\n",
       "</table>\n",
       "<p>5 rows × 28 columns</p>\n",
       "</div>"
      ],
      "text/plain": [
       "   ExhibitionID ExhibitionNumber                     ExhibitionTitle  \\\n",
       "0        2557.0                1  Cézanne, Gauguin, Seurat, Van Gogh   \n",
       "1        2557.0                1  Cézanne, Gauguin, Seurat, Van Gogh   \n",
       "2        2557.0                1  Cézanne, Gauguin, Seurat, Van Gogh   \n",
       "3        2557.0                1  Cézanne, Gauguin, Seurat, Van Gogh   \n",
       "4        2557.0                1  Cézanne, Gauguin, Seurat, Van Gogh   \n",
       "\n",
       "                        ExhibitionCitationDate ExhibitionBeginDate  \\\n",
       "0  [MoMA Exh. #1, November 7-December 7, 1929]           11/7/1929   \n",
       "1  [MoMA Exh. #1, November 7-December 7, 1929]           11/7/1929   \n",
       "2  [MoMA Exh. #1, November 7-December 7, 1929]           11/7/1929   \n",
       "3  [MoMA Exh. #1, November 7-December 7, 1929]           11/7/1929   \n",
       "4  [MoMA Exh. #1, November 7-December 7, 1929]           11/7/1929   \n",
       "\n",
       "  ExhibitionEndDate  ExhibitionSortOrder                       ExhibitionURL  \\\n",
       "0         12/7/1929                  1.0  moma.org/calendar/exhibitions/1767   \n",
       "1         12/7/1929                  1.0  moma.org/calendar/exhibitions/1767   \n",
       "2         12/7/1929                  1.0  moma.org/calendar/exhibitions/1767   \n",
       "3         12/7/1929                  1.0  moma.org/calendar/exhibitions/1767   \n",
       "4         12/7/1929                  1.0  moma.org/calendar/exhibitions/1767   \n",
       "\n",
       "  ExhibitionRole ExhibitionRoleinPressRelease  ...  Institution Nationality  \\\n",
       "0        Curator                     Director  ...          NaN    American   \n",
       "1         Artist                       Artist  ...          NaN      French   \n",
       "2         Artist                       Artist  ...          NaN      French   \n",
       "3         Artist                       Artist  ...          NaN       Dutch   \n",
       "4         Artist                       Artist  ...          NaN      French   \n",
       "\n",
       "  ConstituentBeginDate ConstituentEndDate            ArtistBio Gender  \\\n",
       "0               1902.0             1981.0  American, 19021981   Male   \n",
       "1               1839.0             1906.0    French, 18391906   Male   \n",
       "2               1848.0             1903.0    French, 18481903   Male   \n",
       "3               1853.0             1890.0     Dutch, 18531890   Male   \n",
       "4               1859.0             1891.0    French, 18591891   Male   \n",
       "\n",
       "        VIAFID WikidataID       ULANID         ConstituentURL  \n",
       "0  109252853.0    Q711362  500241556.0  moma.org/artists/9168  \n",
       "1   39374836.0     Q35548  500004793.0  moma.org/artists/1053  \n",
       "2   27064953.0     Q37693  500011421.0  moma.org/artists/2098  \n",
       "3    9854560.0      Q5582  500115588.0  moma.org/artists/2206  \n",
       "4   24608076.0     Q34013  500008873.0  moma.org/artists/5358  \n",
       "\n",
       "[5 rows x 28 columns]"
      ]
     },
     "execution_count": 10,
     "metadata": {},
     "output_type": "execute_result"
    }
   ],
   "source": [
    "df.head()"
   ]
  },
  {
   "cell_type": "code",
   "execution_count": 14,
   "metadata": {},
   "outputs": [
    {
     "data": {
      "text/plain": [
       "(34558, 28)"
      ]
     },
     "execution_count": 14,
     "metadata": {},
     "output_type": "execute_result"
    }
   ],
   "source": [
    "df.shape"
   ]
  },
  {
   "cell_type": "code",
   "execution_count": 15,
   "metadata": {},
   "outputs": [
    {
     "data": {
      "text/plain": [
       "ExhibitionID                      429\n",
       "ExhibitionNumber                    0\n",
       "ExhibitionTitle                     0\n",
       "ExhibitionCitationDate              1\n",
       "ExhibitionBeginDate                 0\n",
       "ExhibitionEndDate                1204\n",
       "ExhibitionSortOrder                 0\n",
       "ExhibitionURL                     433\n",
       "ExhibitionRole                    134\n",
       "ExhibitionRoleinPressRelease      134\n",
       "ConstituentID                     514\n",
       "ConstituentType                   134\n",
       "DisplayName                       134\n",
       "AlphaSort                         134\n",
       "FirstName                        3059\n",
       "MiddleName                      30754\n",
       "LastName                         2560\n",
       "Suffix                          34401\n",
       "Institution                     32100\n",
       "Nationality                      8486\n",
       "ConstituentBeginDate             9268\n",
       "ConstituentEndDate              14739\n",
       "ArtistBio                        8469\n",
       "Gender                           8762\n",
       "VIAFID                           7562\n",
       "WikidataID                      12317\n",
       "ULANID                          12870\n",
       "ConstituentURL                    514\n",
       "dtype: int64"
      ]
     },
     "execution_count": 15,
     "metadata": {},
     "output_type": "execute_result"
    }
   ],
   "source": [
    "df.isna().sum()"
   ]
  },
  {
   "cell_type": "code",
   "execution_count": 16,
   "metadata": {},
   "outputs": [
    {
     "data": {
      "text/plain": [
       "ExhibitionID                    float64\n",
       "ExhibitionNumber                 object\n",
       "ExhibitionTitle                  object\n",
       "ExhibitionCitationDate           object\n",
       "ExhibitionBeginDate              object\n",
       "ExhibitionEndDate                object\n",
       "ExhibitionSortOrder             float64\n",
       "ExhibitionURL                    object\n",
       "ExhibitionRole                   object\n",
       "ExhibitionRoleinPressRelease     object\n",
       "ConstituentID                   float64\n",
       "ConstituentType                  object\n",
       "DisplayName                      object\n",
       "AlphaSort                        object\n",
       "FirstName                        object\n",
       "MiddleName                       object\n",
       "LastName                         object\n",
       "Suffix                           object\n",
       "Institution                      object\n",
       "Nationality                      object\n",
       "ConstituentBeginDate            float64\n",
       "ConstituentEndDate              float64\n",
       "ArtistBio                        object\n",
       "Gender                           object\n",
       "VIAFID                          float64\n",
       "WikidataID                       object\n",
       "ULANID                          float64\n",
       "ConstituentURL                   object\n",
       "dtype: object"
      ]
     },
     "execution_count": 16,
     "metadata": {},
     "output_type": "execute_result"
    }
   ],
   "source": [
    "df.dtypes"
   ]
  },
  {
   "cell_type": "code",
   "execution_count": 17,
   "metadata": {},
   "outputs": [
    {
     "data": {
      "text/plain": [
       "Male      23268\n",
       "Female     2527\n",
       "male          1\n",
       "Name: Gender, dtype: int64"
      ]
     },
     "execution_count": 17,
     "metadata": {},
     "output_type": "execute_result"
    }
   ],
   "source": [
    "df[\"Gender\"].value_counts()"
   ]
  },
  {
   "cell_type": "code",
   "execution_count": 18,
   "metadata": {},
   "outputs": [
    {
     "data": {
      "text/plain": [
       "Artist               32537\n",
       "Curator               1495\n",
       "Installer              150\n",
       "Competition Judge      132\n",
       "Designer                66\n",
       "Arranger                31\n",
       "Preparer                13\n",
       "Name: ExhibitionRole, dtype: int64"
      ]
     },
     "execution_count": 18,
     "metadata": {},
     "output_type": "execute_result"
    }
   ],
   "source": [
    "df[\"ExhibitionRole\"].value_counts()"
   ]
  },
  {
   "cell_type": "code",
   "execution_count": 19,
   "metadata": {},
   "outputs": [
    {
     "data": {
      "text/plain": [
       "American                 14112\n",
       "French                    3767\n",
       "German                    1741\n",
       "British                   1156\n",
       "Italian                    848\n",
       "Spanish                    669\n",
       "Mexican                    394\n",
       "Dutch                      386\n",
       "Swiss                      379\n",
       "Russian                    356\n",
       "Japanese                   318\n",
       "Austrian                   256\n",
       "Belgian                    204\n",
       "Canadian                   126\n",
       "Swedish                    109\n",
       "Polish                     108\n",
       "Chilean                     97\n",
       "Nationality unknown         93\n",
       "Brazilian                   87\n",
       "Czech                       85\n",
       "Argentine                   77\n",
       "Cuban                       71\n",
       "Danish                      60\n",
       "Finnish                     58\n",
       "Norwegian                   49\n",
       "Venezuelan                  38\n",
       "Hungarian                   34\n",
       "Australian                  34\n",
       "English                     33\n",
       "Colombian                   29\n",
       "                         ...  \n",
       "Florentine                   6\n",
       "Bolivian                     6\n",
       "Ukrainian                    6\n",
       "Ecuadorian                   6\n",
       "Croatian                     4\n",
       "Indian                       4\n",
       "Iranian                      4\n",
       "Native American              3\n",
       "Netherlandish                3\n",
       "Korean                       3\n",
       "New                          2\n",
       "Russian-Lithuanian           2\n",
       "Rhodesian                    2\n",
       "Canadian Inuit               2\n",
       "Georgian                     1\n",
       "South African                1\n",
       "architect                    1\n",
       "Sudanese                     1\n",
       "Slovene                      1\n",
       "Panamanian                   1\n",
       "Catalan                      1\n",
       "Bosnian                      1\n",
       "Tanzanian                    1\n",
       "New Zealander                1\n",
       "South                        1\n",
       "Moroccan and American        1\n",
       "Venetian                     1\n",
       "Milanese                     1\n",
       "Luxembourgish                1\n",
       "American and Mexican         1\n",
       "Name: Nationality, Length: 75, dtype: int64"
      ]
     },
     "execution_count": 19,
     "metadata": {},
     "output_type": "execute_result"
    }
   ],
   "source": [
    "df[\"Nationality\"].value_counts()"
   ]
  },
  {
   "cell_type": "code",
   "execution_count": null,
   "metadata": {},
   "outputs": [],
   "source": []
  }
 ],
 "metadata": {
  "kernelspec": {
   "display_name": "Python 3",
   "language": "python",
   "name": "python3"
  },
  "language_info": {
   "codemirror_mode": {
    "name": "ipython",
    "version": 3
   },
   "file_extension": ".py",
   "mimetype": "text/x-python",
   "name": "python",
   "nbconvert_exporter": "python",
   "pygments_lexer": "ipython3",
   "version": "3.8.2"
  }
 },
 "nbformat": 4,
 "nbformat_minor": 4
}
